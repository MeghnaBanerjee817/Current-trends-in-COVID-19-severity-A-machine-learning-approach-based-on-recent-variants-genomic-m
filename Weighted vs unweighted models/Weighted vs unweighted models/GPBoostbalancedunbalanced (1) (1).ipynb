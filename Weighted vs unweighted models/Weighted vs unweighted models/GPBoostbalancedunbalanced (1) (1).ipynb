{
 "cells": [
  {
   "cell_type": "code",
   "execution_count": 1,
   "id": "57eb788d-9eee-499a-85ee-34a5e9fe3ebd",
   "metadata": {},
   "outputs": [],
   "source": [
    "import pandas as pd\n",
    "import numpy as np\n",
    "import seaborn as sns\n",
    "import matplotlib.pyplot as plt\n",
    "%matplotlib inline \n",
    "from sklearn.linear_model import LogisticRegression\n",
    "from sklearn.model_selection import train_test_split\n",
    "from gpboost import GPBoostClassifier\n",
    "from scipy.stats import uniform, randint\n",
    "from sklearn.metrics import (\n",
    "    accuracy_score, make_scorer, classification_report,\n",
    "    confusion_matrix, roc_auc_score, ConfusionMatrixDisplay\n",
    ")\n",
    "import warnings\n",
    "warnings.filterwarnings(\"ignore\")"
   ]
  },
  {
   "cell_type": "code",
   "execution_count": 2,
   "id": "e0c0a5bb-9b35-4c4b-a679-c807ab579223",
   "metadata": {},
   "outputs": [
    {
     "data": {
      "text/html": [
       "<div>\n",
       "<style scoped>\n",
       "    .dataframe tbody tr th:only-of-type {\n",
       "        vertical-align: middle;\n",
       "    }\n",
       "\n",
       "    .dataframe tbody tr th {\n",
       "        vertical-align: top;\n",
       "    }\n",
       "\n",
       "    .dataframe thead th {\n",
       "        text-align: right;\n",
       "    }\n",
       "</style>\n",
       "<table border=\"1\" class=\"dataframe\">\n",
       "  <thead>\n",
       "    <tr style=\"text-align: right;\">\n",
       "      <th></th>\n",
       "      <th>strain</th>\n",
       "      <th>A1C</th>\n",
       "      <th>A1G</th>\n",
       "      <th>A1T</th>\n",
       "      <th>T2G</th>\n",
       "      <th>T2K</th>\n",
       "      <th>T2A</th>\n",
       "      <th>T2C</th>\n",
       "      <th>T3C</th>\n",
       "      <th>T3A</th>\n",
       "      <th>...</th>\n",
       "      <th>A29891G</th>\n",
       "      <th>A29892G</th>\n",
       "      <th>Gender</th>\n",
       "      <th>Patient age</th>\n",
       "      <th>clade</th>\n",
       "      <th>Nextclade_pango</th>\n",
       "      <th>region</th>\n",
       "      <th>country</th>\n",
       "      <th>category</th>\n",
       "      <th>Collection date</th>\n",
       "    </tr>\n",
       "  </thead>\n",
       "  <tbody>\n",
       "    <tr>\n",
       "      <th>0</th>\n",
       "      <td>hCoV-19/Turkey/TSIM_Ankara_140111_978/2024</td>\n",
       "      <td>0</td>\n",
       "      <td>0</td>\n",
       "      <td>0</td>\n",
       "      <td>0</td>\n",
       "      <td>0</td>\n",
       "      <td>0</td>\n",
       "      <td>0</td>\n",
       "      <td>0</td>\n",
       "      <td>0</td>\n",
       "      <td>...</td>\n",
       "      <td>0</td>\n",
       "      <td>0</td>\n",
       "      <td>Male</td>\n",
       "      <td>87.00</td>\n",
       "      <td>19A</td>\n",
       "      <td>B</td>\n",
       "      <td>Europe</td>\n",
       "      <td>Turkey</td>\n",
       "      <td>Severe</td>\n",
       "      <td>12-01-2024</td>\n",
       "    </tr>\n",
       "    <tr>\n",
       "      <th>1</th>\n",
       "      <td>hCoV-19/Slovakia/ruvzbb_24_02_00000120/2024</td>\n",
       "      <td>0</td>\n",
       "      <td>0</td>\n",
       "      <td>0</td>\n",
       "      <td>1</td>\n",
       "      <td>0</td>\n",
       "      <td>0</td>\n",
       "      <td>0</td>\n",
       "      <td>1</td>\n",
       "      <td>0</td>\n",
       "      <td>...</td>\n",
       "      <td>1</td>\n",
       "      <td>1</td>\n",
       "      <td>Female</td>\n",
       "      <td>91.00</td>\n",
       "      <td>recombinant</td>\n",
       "      <td>XCU</td>\n",
       "      <td>Europe</td>\n",
       "      <td>Slovakia</td>\n",
       "      <td>Severe</td>\n",
       "      <td>03-01-2024</td>\n",
       "    </tr>\n",
       "    <tr>\n",
       "      <th>2</th>\n",
       "      <td>hCoV-19/Brazil/RJ-FIOCRUZ-51/2024</td>\n",
       "      <td>0</td>\n",
       "      <td>0</td>\n",
       "      <td>0</td>\n",
       "      <td>1</td>\n",
       "      <td>0</td>\n",
       "      <td>0</td>\n",
       "      <td>0</td>\n",
       "      <td>1</td>\n",
       "      <td>0</td>\n",
       "      <td>...</td>\n",
       "      <td>1</td>\n",
       "      <td>1</td>\n",
       "      <td>Male</td>\n",
       "      <td>35.00</td>\n",
       "      <td>21K</td>\n",
       "      <td>BA.1</td>\n",
       "      <td>South America</td>\n",
       "      <td>Brazil</td>\n",
       "      <td>Severe</td>\n",
       "      <td>06-01-2024</td>\n",
       "    </tr>\n",
       "    <tr>\n",
       "      <th>3</th>\n",
       "      <td>hCoV-19/Fujian/FCDC-FZ9970725/2024</td>\n",
       "      <td>0</td>\n",
       "      <td>0</td>\n",
       "      <td>0</td>\n",
       "      <td>1</td>\n",
       "      <td>0</td>\n",
       "      <td>0</td>\n",
       "      <td>0</td>\n",
       "      <td>1</td>\n",
       "      <td>0</td>\n",
       "      <td>...</td>\n",
       "      <td>1</td>\n",
       "      <td>1</td>\n",
       "      <td>Male</td>\n",
       "      <td>70.00</td>\n",
       "      <td>23F</td>\n",
       "      <td>EG.5.1.1</td>\n",
       "      <td>Asia</td>\n",
       "      <td>China</td>\n",
       "      <td>Severe</td>\n",
       "      <td>30-01-2024</td>\n",
       "    </tr>\n",
       "    <tr>\n",
       "      <th>4</th>\n",
       "      <td>hCoV-19/Fujian/FCDC-XM010309HG/2024</td>\n",
       "      <td>0</td>\n",
       "      <td>0</td>\n",
       "      <td>0</td>\n",
       "      <td>1</td>\n",
       "      <td>0</td>\n",
       "      <td>0</td>\n",
       "      <td>0</td>\n",
       "      <td>1</td>\n",
       "      <td>0</td>\n",
       "      <td>...</td>\n",
       "      <td>1</td>\n",
       "      <td>1</td>\n",
       "      <td>Female</td>\n",
       "      <td>19.00</td>\n",
       "      <td>23H</td>\n",
       "      <td>HK.3</td>\n",
       "      <td>Asia</td>\n",
       "      <td>China</td>\n",
       "      <td>Severe</td>\n",
       "      <td>01-01-2024</td>\n",
       "    </tr>\n",
       "    <tr>\n",
       "      <th>...</th>\n",
       "      <td>...</td>\n",
       "      <td>...</td>\n",
       "      <td>...</td>\n",
       "      <td>...</td>\n",
       "      <td>...</td>\n",
       "      <td>...</td>\n",
       "      <td>...</td>\n",
       "      <td>...</td>\n",
       "      <td>...</td>\n",
       "      <td>...</td>\n",
       "      <td>...</td>\n",
       "      <td>...</td>\n",
       "      <td>...</td>\n",
       "      <td>...</td>\n",
       "      <td>...</td>\n",
       "      <td>...</td>\n",
       "      <td>...</td>\n",
       "      <td>...</td>\n",
       "      <td>...</td>\n",
       "      <td>...</td>\n",
       "      <td>...</td>\n",
       "    </tr>\n",
       "    <tr>\n",
       "      <th>13968</th>\n",
       "      <td>hCoV-19/Spain/CT-LabRefCat-9317885r/2024</td>\n",
       "      <td>0</td>\n",
       "      <td>0</td>\n",
       "      <td>0</td>\n",
       "      <td>1</td>\n",
       "      <td>0</td>\n",
       "      <td>0</td>\n",
       "      <td>0</td>\n",
       "      <td>1</td>\n",
       "      <td>0</td>\n",
       "      <td>...</td>\n",
       "      <td>1</td>\n",
       "      <td>1</td>\n",
       "      <td>Male</td>\n",
       "      <td>94.00</td>\n",
       "      <td>24A</td>\n",
       "      <td>JN.1.4.9</td>\n",
       "      <td>Europe</td>\n",
       "      <td>Spain</td>\n",
       "      <td>Severe</td>\n",
       "      <td>03-05-2024</td>\n",
       "    </tr>\n",
       "    <tr>\n",
       "      <th>13969</th>\n",
       "      <td>hCoV-19/Spain/CT-LabRefCat-6385185r/2024</td>\n",
       "      <td>0</td>\n",
       "      <td>0</td>\n",
       "      <td>0</td>\n",
       "      <td>1</td>\n",
       "      <td>0</td>\n",
       "      <td>0</td>\n",
       "      <td>0</td>\n",
       "      <td>1</td>\n",
       "      <td>0</td>\n",
       "      <td>...</td>\n",
       "      <td>1</td>\n",
       "      <td>1</td>\n",
       "      <td>Female</td>\n",
       "      <td>81.00</td>\n",
       "      <td>24E</td>\n",
       "      <td>KP.3.1.1</td>\n",
       "      <td>Europe</td>\n",
       "      <td>Spain</td>\n",
       "      <td>Severe</td>\n",
       "      <td>11-10-2024</td>\n",
       "    </tr>\n",
       "    <tr>\n",
       "      <th>13970</th>\n",
       "      <td>hCoV-19/USA/NY-WMC-6178/2024</td>\n",
       "      <td>0</td>\n",
       "      <td>0</td>\n",
       "      <td>0</td>\n",
       "      <td>1</td>\n",
       "      <td>0</td>\n",
       "      <td>0</td>\n",
       "      <td>0</td>\n",
       "      <td>1</td>\n",
       "      <td>0</td>\n",
       "      <td>...</td>\n",
       "      <td>1</td>\n",
       "      <td>1</td>\n",
       "      <td>Male</td>\n",
       "      <td>0.42</td>\n",
       "      <td>24A</td>\n",
       "      <td>JN.1.4</td>\n",
       "      <td>North America</td>\n",
       "      <td>USA</td>\n",
       "      <td>Severe</td>\n",
       "      <td>01-03-2024</td>\n",
       "    </tr>\n",
       "    <tr>\n",
       "      <th>13971</th>\n",
       "      <td>hCoV-19/Mexico/GUA_CIAD_01001002/2024</td>\n",
       "      <td>0</td>\n",
       "      <td>0</td>\n",
       "      <td>0</td>\n",
       "      <td>1</td>\n",
       "      <td>0</td>\n",
       "      <td>0</td>\n",
       "      <td>0</td>\n",
       "      <td>1</td>\n",
       "      <td>0</td>\n",
       "      <td>...</td>\n",
       "      <td>1</td>\n",
       "      <td>1</td>\n",
       "      <td>Female</td>\n",
       "      <td>26.00</td>\n",
       "      <td>23B</td>\n",
       "      <td>XBB.1.16.15</td>\n",
       "      <td>North America</td>\n",
       "      <td>Mexico</td>\n",
       "      <td>Severe</td>\n",
       "      <td>08-02-2024</td>\n",
       "    </tr>\n",
       "    <tr>\n",
       "      <th>13972</th>\n",
       "      <td>hCoV-19/Brazil/SC-FIOCRUZ-1104/2024</td>\n",
       "      <td>0</td>\n",
       "      <td>0</td>\n",
       "      <td>0</td>\n",
       "      <td>1</td>\n",
       "      <td>0</td>\n",
       "      <td>0</td>\n",
       "      <td>0</td>\n",
       "      <td>1</td>\n",
       "      <td>0</td>\n",
       "      <td>...</td>\n",
       "      <td>1</td>\n",
       "      <td>1</td>\n",
       "      <td>Male</td>\n",
       "      <td>38.00</td>\n",
       "      <td>23G</td>\n",
       "      <td>GK.1</td>\n",
       "      <td>South America</td>\n",
       "      <td>Brazil</td>\n",
       "      <td>Severe</td>\n",
       "      <td>04-02-2024</td>\n",
       "    </tr>\n",
       "  </tbody>\n",
       "</table>\n",
       "<p>13973 rows × 16424 columns</p>\n",
       "</div>"
      ],
      "text/plain": [
       "                                            strain  A1C  A1G  A1T  T2G  T2K  \\\n",
       "0       hCoV-19/Turkey/TSIM_Ankara_140111_978/2024    0    0    0    0    0   \n",
       "1      hCoV-19/Slovakia/ruvzbb_24_02_00000120/2024    0    0    0    1    0   \n",
       "2                hCoV-19/Brazil/RJ-FIOCRUZ-51/2024    0    0    0    1    0   \n",
       "3               hCoV-19/Fujian/FCDC-FZ9970725/2024    0    0    0    1    0   \n",
       "4              hCoV-19/Fujian/FCDC-XM010309HG/2024    0    0    0    1    0   \n",
       "...                                            ...  ...  ...  ...  ...  ...   \n",
       "13968     hCoV-19/Spain/CT-LabRefCat-9317885r/2024    0    0    0    1    0   \n",
       "13969     hCoV-19/Spain/CT-LabRefCat-6385185r/2024    0    0    0    1    0   \n",
       "13970                 hCoV-19/USA/NY-WMC-6178/2024    0    0    0    1    0   \n",
       "13971        hCoV-19/Mexico/GUA_CIAD_01001002/2024    0    0    0    1    0   \n",
       "13972          hCoV-19/Brazil/SC-FIOCRUZ-1104/2024    0    0    0    1    0   \n",
       "\n",
       "       T2A  T2C  T3C  T3A  ...  A29891G  A29892G  Gender  Patient age  \\\n",
       "0        0    0    0    0  ...        0        0    Male        87.00   \n",
       "1        0    0    1    0  ...        1        1  Female        91.00   \n",
       "2        0    0    1    0  ...        1        1    Male        35.00   \n",
       "3        0    0    1    0  ...        1        1    Male        70.00   \n",
       "4        0    0    1    0  ...        1        1  Female        19.00   \n",
       "...    ...  ...  ...  ...  ...      ...      ...     ...          ...   \n",
       "13968    0    0    1    0  ...        1        1    Male        94.00   \n",
       "13969    0    0    1    0  ...        1        1  Female        81.00   \n",
       "13970    0    0    1    0  ...        1        1    Male         0.42   \n",
       "13971    0    0    1    0  ...        1        1  Female        26.00   \n",
       "13972    0    0    1    0  ...        1        1    Male        38.00   \n",
       "\n",
       "             clade  Nextclade_pango         region   country  category  \\\n",
       "0              19A                B         Europe    Turkey    Severe   \n",
       "1      recombinant              XCU         Europe  Slovakia    Severe   \n",
       "2              21K             BA.1  South America    Brazil    Severe   \n",
       "3              23F         EG.5.1.1           Asia     China    Severe   \n",
       "4              23H             HK.3           Asia     China    Severe   \n",
       "...            ...              ...            ...       ...       ...   \n",
       "13968          24A         JN.1.4.9         Europe     Spain    Severe   \n",
       "13969          24E         KP.3.1.1         Europe     Spain    Severe   \n",
       "13970          24A           JN.1.4  North America       USA    Severe   \n",
       "13971          23B      XBB.1.16.15  North America    Mexico    Severe   \n",
       "13972          23G             GK.1  South America    Brazil    Severe   \n",
       "\n",
       "       Collection date  \n",
       "0           12-01-2024  \n",
       "1           03-01-2024  \n",
       "2           06-01-2024  \n",
       "3           30-01-2024  \n",
       "4           01-01-2024  \n",
       "...                ...  \n",
       "13968       03-05-2024  \n",
       "13969       11-10-2024  \n",
       "13970       01-03-2024  \n",
       "13971       08-02-2024  \n",
       "13972       04-02-2024  \n",
       "\n",
       "[13973 rows x 16424 columns]"
      ]
     },
     "execution_count": 2,
     "metadata": {},
     "output_type": "execute_result"
    }
   ],
   "source": [
    "final_df=pd.read_csv(\"finalfile.txt\", sep=\"\\t\")\n",
    "final_df"
   ]
  },
  {
   "cell_type": "code",
   "execution_count": 3,
   "id": "59288738-afad-4363-a490-670038201c8a",
   "metadata": {},
   "outputs": [
    {
     "name": "stdout",
     "output_type": "stream",
     "text": [
      "datetime64[ns]\n",
      "0   2024-01-12\n",
      "1   2024-01-03\n",
      "2   2024-01-06\n",
      "3   2024-01-30\n",
      "4   2024-01-01\n",
      "Name: Collection date, dtype: datetime64[ns]\n"
     ]
    }
   ],
   "source": [
    "final_df[\"Collection date\"] = pd.to_datetime(final_df[\"Collection date\"],  format=\"mixed\", \n",
    "    dayfirst=True)\n",
    "print(final_df[\"Collection date\"].dtypes)\n",
    "print(final_df[\"Collection date\"].head())"
   ]
  },
  {
   "cell_type": "code",
   "execution_count": 4,
   "id": "e9dd2801-6b43-49fe-895c-ba13a47b96e0",
   "metadata": {},
   "outputs": [],
   "source": [
    "final_df[\"month\"] = final_df[\"Collection date\"].dt.to_period(\"M\").astype(str)"
   ]
  },
  {
   "cell_type": "code",
   "execution_count": 5,
   "id": "50835839-cf1b-45b2-97e0-4693305529a2",
   "metadata": {},
   "outputs": [
    {
     "name": "stdout",
     "output_type": "stream",
     "text": [
      "    Patient age age_band\n",
      "0          87.0      80+\n",
      "1          91.0      80+\n",
      "2          35.0    21-40\n",
      "3          70.0    61-80\n",
      "4          19.0     0-20\n",
      "5          60.0    41-60\n",
      "6          87.0      80+\n",
      "7          76.0    61-80\n",
      "8          69.0    61-80\n",
      "9          46.0    41-60\n",
      "10         79.0    61-80\n",
      "11         62.0    61-80\n",
      "12         24.0    21-40\n",
      "13         27.0    21-40\n",
      "14         33.0    21-40\n"
     ]
    }
   ],
   "source": [
    "bins   = [-np.inf, 20, 40, 60, 80, np.inf]  # (-inf,20], (20,40], (40,60], (60,80], (80,inf)\n",
    "labels = [\"0-20\", \"21-40\", \"41-60\", \"61-80\", \"80+\"]\n",
    "\n",
    "final_df[\"age_band\"] = pd.cut(final_df[\"Patient age\"], bins=bins, labels=labels)\n",
    "\n",
    "print(final_df[[\"Patient age\", \"age_band\"]].head(15))"
   ]
  },
  {
   "cell_type": "code",
   "execution_count": 6,
   "id": "cfeefd09-9a5a-4b57-9922-3dd28603ca3f",
   "metadata": {},
   "outputs": [
    {
     "name": "stdout",
     "output_type": "stream",
     "text": [
      "0    1\n",
      "1    1\n",
      "2    1\n",
      "3    1\n",
      "4    1\n",
      "Name: category, dtype: int32\n"
     ]
    }
   ],
   "source": [
    "final_df['category'] = pd.get_dummies(final_df['category'])['Severe'].astype(int)\n",
    "print(final_df['category'].head())"
   ]
  },
  {
   "cell_type": "code",
   "execution_count": 7,
   "id": "6e1cb95d-7851-4813-8d66-5f3c8417cd98",
   "metadata": {},
   "outputs": [
    {
     "name": "stdout",
     "output_type": "stream",
     "text": [
      "0    0\n",
      "1    1\n",
      "2    0\n",
      "3    0\n",
      "4    1\n",
      "Name: Gender, dtype: int32\n"
     ]
    }
   ],
   "source": [
    "final_df['Gender'] = pd.get_dummies(final_df['Gender'])['Female'].astype(int)\n",
    "print(final_df['Gender'].head())"
   ]
  },
  {
   "cell_type": "code",
   "execution_count": 8,
   "id": "61066725-c3d6-4bc4-b541-365337a6a9f0",
   "metadata": {},
   "outputs": [],
   "source": [
    "clade_dummies = pd.get_dummies(final_df['clade'], prefix='clade').astype(int)\n",
    "final_df = pd.concat([final_df, clade_dummies], axis=1)\n",
    "final_df = final_df.drop(['clade', 'clade_24C'], axis = 1)"
   ]
  },
  {
   "cell_type": "code",
   "execution_count": 9,
   "id": "6c209913-803e-44b3-8efb-a76f28709b3d",
   "metadata": {},
   "outputs": [],
   "source": [
    "Nextclade_dummies = pd.get_dummies(final_df['Nextclade_pango'], prefix='Nextclade_pango').astype(int)\n",
    "final_df = pd.concat([final_df, Nextclade_dummies], axis=1)\n",
    "final_df = final_df.drop(['Nextclade_pango', 'Nextclade_pango_XEN'], axis = 1)"
   ]
  },
  {
   "cell_type": "code",
   "execution_count": 10,
   "id": "8cdb8474-1073-48be-aeea-44612d657e71",
   "metadata": {},
   "outputs": [
    {
     "name": "stdout",
     "output_type": "stream",
     "text": [
      "IPI weights computed. Summary:\n"
     ]
    },
    {
     "data": {
      "text/plain": [
       "count    13973.000000\n",
       "mean         1.000000\n",
       "std          2.756098\n",
       "min          0.055730\n",
       "25%          0.127972\n",
       "50%          0.246803\n",
       "75%          0.575874\n",
       "max         20.731454\n",
       "Name: ipi_weight, dtype: float64"
      ]
     },
     "metadata": {},
     "output_type": "display_data"
    }
   ],
   "source": [
    "import numpy as np\n",
    "import pandas as pd\n",
    "\n",
    "for col in ['country', 'month', 'age_band']:\n",
    "    if col not in final_df.columns:\n",
    "        raise KeyError(f\"final_df must contain '{col}' for IPI weighting.\")\n",
    "\n",
    "final_df['__stratum__'] = (\n",
    "    final_df['country'].astype(str) + '_' +\n",
    "    final_df['month'].astype(str)   + '_' +\n",
    "    final_df['age_band'].astype(str)\n",
    ")\n",
    "\n",
    "_counts = final_df['__stratum__'].value_counts(dropna=False)\n",
    "_probs  = _counts / _counts.sum()\n",
    "final_df['ipi_weight'] = final_df['__stratum__'].map(lambda s: 1.0 / _probs[s])\n",
    "\n",
    "final_df['ipi_weight'] = final_df['ipi_weight'] / final_df['ipi_weight'].mean()\n",
    "\n",
    "print(\"IPI weights computed. Summary:\")\n",
    "display(final_df['ipi_weight'].describe())"
   ]
  },
  {
   "cell_type": "code",
   "execution_count": 11,
   "id": "c7d85169-fe71-4170-acab-3bc2ae9beba0",
   "metadata": {},
   "outputs": [],
   "source": [
    "region_dummies = pd.get_dummies(final_df['region'], prefix='region').astype(int)\n",
    "final_df = pd.concat([final_df, region_dummies], axis=1)\n",
    "final_df = final_df.drop(['region_Africa'], axis = 1)"
   ]
  },
  {
   "cell_type": "code",
   "execution_count": 12,
   "id": "7b8910c0-ddd3-4409-9b1e-3970326d175e",
   "metadata": {},
   "outputs": [],
   "source": [
    "country_dummies = pd.get_dummies(final_df['country'], prefix='country').astype(int)\n",
    "final_df = pd.concat([final_df , country_dummies], axis=1)\n",
    "final_df = final_df.drop(['country_Senegal'], axis = 1)"
   ]
  },
  {
   "cell_type": "code",
   "execution_count": 13,
   "id": "4c0b7f2a-2778-4d46-a944-d3be423c6da0",
   "metadata": {},
   "outputs": [],
   "source": [
    "X = final_df.drop(columns=['category', 'strain', 'country', 'region',\n",
    "    'Collection date', 'month', 'age_band', '__stratum__', 'ipi_weight'])"
   ]
  },
  {
   "cell_type": "code",
   "execution_count": 14,
   "id": "00e4725d-8bf7-4687-a584-057f99d6d7db",
   "metadata": {},
   "outputs": [
    {
     "data": {
      "text/plain": [
       "0    1\n",
       "1    1\n",
       "2    1\n",
       "3    1\n",
       "4    1\n",
       "Name: category, dtype: int32"
      ]
     },
     "execution_count": 14,
     "metadata": {},
     "output_type": "execute_result"
    }
   ],
   "source": [
    "y = final_df['category']\n",
    "y.head()"
   ]
  },
  {
   "cell_type": "code",
   "execution_count": 15,
   "id": "fe3fde32-c13d-4dd4-9433-ca9f9b36a124",
   "metadata": {},
   "outputs": [
    {
     "data": {
      "text/plain": [
       "array([20.73145401,  2.30349489,  0.37693553, ...,  6.91048467,\n",
       "        0.10212539,  0.24680302])"
      ]
     },
     "execution_count": 15,
     "metadata": {},
     "output_type": "execute_result"
    }
   ],
   "source": [
    "weights = final_df['ipi_weight'].values\n",
    "weights"
   ]
  },
  {
   "cell_type": "code",
   "execution_count": 16,
   "id": "a9161aa5-d6a6-4188-902d-b13157a01de4",
   "metadata": {},
   "outputs": [
    {
     "data": {
      "image/png": "[encoded data removed]",
      "text/plain": [
       "<Figure size 500x500 with 1 Axes>"
      ]
     },
     "metadata": {},
     "output_type": "display_data"
    }
   ],
   "source": [
    "X_train, X_test, y_train, y_test, w_train, w_test = train_test_split(\n",
    "    X, y, weights, test_size=0.2, random_state=42\n",
    ")\n",
    "sns.displot(X[\"Patient age\"], kde=True)\n",
    "plt.show()"
   ]
  },
  {
   "cell_type": "code",
   "execution_count": 17,
   "id": "97381bc1-295c-44c8-8aa7-6592a00e1d4e",
   "metadata": {},
   "outputs": [],
   "source": [
    "from sklearn.preprocessing import StandardScaler\n",
    "scaler = StandardScaler()\n",
    "X_train[[\"Patient age\"]] = scaler.fit_transform(X_train[[\"Patient age\"]]) \n",
    "X_test[[\"Patient age\"]] = scaler.transform(X_test[[\"Patient age\"]]) "
   ]
  },
  {
   "cell_type": "code",
   "execution_count": 18,
   "id": "99b11ae1-82ee-4a0d-b9d6-e0ada92edd5b",
   "metadata": {},
   "outputs": [],
   "source": [
    "param_dist = {\n",
    "    'n_estimators': randint(500, 2100),\n",
    "    'max_depth': randint(10, 41),\n",
    "    'num_leaves': randint(10, 41),\n",
    "    'learning_rate': uniform(0.001, 0.099)  # ~0.001 to 0.1\n",
    "    }"
   ]
  },
  {
   "cell_type": "code",
   "execution_count": 19,
   "id": "b764e211-1294-4140-8437-56af219a70a7",
   "metadata": {},
   "outputs": [],
   "source": [
    "from sklearn.model_selection import KFold\n",
    "cv = KFold(n_splits=5, shuffle=True, random_state=42)\n",
    "scorer = make_scorer(accuracy_score)"
   ]
  },
  {
   "cell_type": "code",
   "execution_count": 20,
   "id": "544c02c3-b221-4011-9c2c-2742ae6b1f62",
   "metadata": {},
   "outputs": [],
   "source": [
    "def expected_calibration_error(y_true, y_prob, n_bins=10, sample_weight=None):\n",
    "    bins = np.linspace(0.0, 1.0, n_bins + 1)\n",
    "    ece = 0.0\n",
    "    if sample_weight is None:\n",
    "        sample_weight = np.ones_like(y_true, dtype=float)\n",
    "\n",
    "    for i in range(n_bins):\n",
    "        bin_mask = (y_prob >= bins[i]) & (y_prob < bins[i + 1])\n",
    "        bin_size = np.sum(sample_weight[bin_mask])\n",
    "        if bin_size > 0:\n",
    "            bin_acc = np.average(y_true[bin_mask], weights=sample_weight[bin_mask])\n",
    "            bin_conf = np.average(y_prob[bin_mask], weights=sample_weight[bin_mask])\n",
    "            ece += (bin_size / np.sum(sample_weight)) * abs(bin_acc - bin_conf)\n",
    "    return ece"
   ]
  },
  {
   "cell_type": "code",
   "execution_count": 21,
   "id": "ccd7a41a-6609-46c4-9b4d-3b523fd973a8",
   "metadata": {},
   "outputs": [],
   "source": [
    "model = GPBoostClassifier()"
   ]
  },
  {
   "cell_type": "code",
   "execution_count": 22,
   "id": "e84010ec-adfa-42c2-abf6-af704ba123d1",
   "metadata": {},
   "outputs": [],
   "source": [
    "from sklearn.model_selection import RandomizedSearchCV\n",
    "random_search = RandomizedSearchCV(\n",
    "    estimator=model,\n",
    "    param_distributions=param_dist,\n",
    "    n_iter=50,  \n",
    "    scoring=scorer,\n",
    "    cv=cv,\n",
    "    verbose=2,\n",
    "    n_jobs=4,\n",
    "    random_state=42\n",
    ")"
   ]
  },
  {
   "cell_type": "code",
   "execution_count": 23,
   "id": "d9c5ca47-3eac-4002-914c-f337bc5f03fe",
   "metadata": {},
   "outputs": [
    {
     "name": "stdout",
     "output_type": "stream",
     "text": [
      "Fitting 5 folds for each of 50 candidates, totalling 250 fits\n"
     ]
    }
   ],
   "source": [
    "random_search.fit(X_train, y_train)\n",
    "best_model = random_search.best_estimator_\n",
    "y_pred = best_model.predict(X_test)\n",
    "y_prob = best_model.predict_proba(X_test)[:, 1]  "
   ]
  },
  {
   "cell_type": "code",
   "execution_count": 24,
   "id": "bdc8e8ee-928d-4109-a068-3d2a2b640517",
   "metadata": {},
   "outputs": [
    {
     "name": "stdout",
     "output_type": "stream",
     "text": [
      "Per-fold results:\n",
      "    Fold     Setting     AUROC     AUPRC     Brier    ECE@10\n",
      "0     1  Unweighted  0.906960  0.951039  0.118545  0.024534\n",
      "1     1    Weighted  0.967714  0.994401  0.055494  0.040734\n",
      "\n",
      "Summary (mean ± std across folds):\n",
      "            Fold       AUROC       AUPRC       Brier      ECE@10    \n",
      "           mean std    mean std    mean std    mean std    mean std\n",
      "Setting                                                            \n",
      "Unweighted  1.0 NaN  0.9070 NaN  0.9510 NaN  0.1185 NaN  0.0245 NaN\n",
      "Weighted    1.0 NaN  0.9677 NaN  0.9944 NaN  0.0555 NaN  0.0407 NaN\n"
     ]
    }
   ],
   "source": [
    "from sklearn.metrics import (\n",
    "    roc_auc_score,\n",
    "    average_precision_score,\n",
    "    brier_score_loss\n",
    ")\n",
    "cv_rows = []\n",
    "\n",
    "cv_rows.append({\n",
    "    \"Fold\": 1,\n",
    "    \"Setting\": \"Unweighted\",\n",
    "    \"AUROC\": roc_auc_score(y_test, y_prob),\n",
    "    \"AUPRC\": average_precision_score(y_test, y_prob),\n",
    "    \"Brier\": brier_score_loss(y_test, y_prob),\n",
    "    \"ECE@10\": expected_calibration_error(y_test, y_prob, n_bins=10),\n",
    "})\n",
    "\n",
    "cv_rows.append({\n",
    "    \"Fold\": 1,\n",
    "    \"Setting\": \"Weighted\",\n",
    "    \"AUROC\": roc_auc_score(y_test, y_prob, sample_weight=w_test),\n",
    "    \"AUPRC\": average_precision_score(y_test, y_prob, sample_weight=w_test),\n",
    "    \"Brier\": brier_score_loss(y_test, y_prob, sample_weight=w_test),\n",
    "    \"ECE@10\": expected_calibration_error(y_test, y_prob, n_bins=10, sample_weight=w_test),\n",
    "})\n",
    "\n",
    "cv_results = pd.DataFrame(cv_rows)\n",
    "summary = cv_results.groupby(\"Setting\").agg([\"mean\", \"std\"]).round(4)\n",
    "\n",
    "print(\"Per-fold results:\\n\", cv_results)\n",
    "print(\"\\nSummary (mean ± std across folds):\\n\", summary)\n"
   ]
  },
  {
   "cell_type": "code",
   "execution_count": 25,
   "id": "9e0cccd9-0723-4660-bdd2-689c447142a9",
   "metadata": {},
   "outputs": [
    {
     "name": "stdout",
     "output_type": "stream",
     "text": [
      "[[ 330.30049133   67.44098566]\n",
      " [ 162.97153366 2074.56384295]]\n",
      "              precision    recall  f1-score   support\n",
      "\n",
      "           0       0.67      0.83      0.74 397.741476985662\n",
      "           1       0.97      0.93      0.95 2237.5353766123862\n",
      "\n",
      "    accuracy                           0.91 2635.276853598048\n",
      "   macro avg       0.82      0.88      0.84 2635.276853598048\n",
      "weighted avg       0.92      0.91      0.92 2635.276853598048\n",
      "\n",
      "Test ROC AUC: 0.9677139362013211\n"
     ]
    }
   ],
   "source": [
    "print(confusion_matrix(y_test, y_pred, sample_weight=w_test))\n",
    "print(classification_report(y_test, y_pred, sample_weight=w_test))\n",
    "print(\"Test ROC AUC:\", roc_auc_score(y_test, y_prob, sample_weight=w_test))\n"
   ]
  },
  {
   "cell_type": "code",
   "execution_count": 26,
   "id": "66e4cd15-4e4d-4b36-afda-a3ce84d81ce9",
   "metadata": {},
   "outputs": [
    {
     "name": "stdout",
     "output_type": "stream",
     "text": [
      "fpr = [0.         0.         0.         ... 0.99891822 0.99937949 1.        ]\n",
      "tpr = [0.00000000e+00 9.17357209e-05 1.83471442e-04 ... 1.00000000e+00\n",
      " 1.00000000e+00 1.00000000e+00]\n",
      "thresholds = [       inf 0.99927292 0.9992627  ... 0.05955469 0.05674693 0.05315739]\n",
      "AUC = 0.968\n"
     ]
    },
    {
     "data": {
      "image/png": "[encoded data removed]",
      "text/plain": [
       "<Figure size 600x600 with 1 Axes>"
      ]
     },
     "metadata": {},
     "output_type": "display_data"
    }
   ],
   "source": [
    "from sklearn.metrics import roc_curve, roc_auc_score\n",
    "import matplotlib.pyplot as plt\n",
    "\n",
    "fpr, tpr, thresholds = roc_curve(y_test, y_prob, sample_weight=w_test)\n",
    "auc_score = roc_auc_score(y_test, y_prob, sample_weight=w_test)\n",
    "print('fpr =', fpr)\n",
    "print('tpr =', tpr)\n",
    "print('thresholds =', thresholds)\n",
    "print(f\"AUC = {auc_score:.3f}\")\n",
    "plt.figure(figsize=(6, 6))\n",
    "plt.plot(fpr, tpr, label=f\"XGBoost (AUC = {auc_score:.3f})\", color='darkblue')\n",
    "plt.plot([0, 1], [0, 1], linestyle='--', color='gray')  # Diagonal line\n",
    "plt.xlabel('False Positive Rate')\n",
    "plt.ylabel('True Positive Rate')\n",
    "plt.title('ROC Curve')\n",
    "plt.legend(loc='lower right')\n",
    "plt.grid(True)\n",
    "plt.savefig('roc_curve_xgboost.tiff', dpi=600, format='tiff')\n",
    "plt.show()"
   ]
  },
  {
   "cell_type": "code",
   "execution_count": 27,
   "id": "059d46ca-4616-4dd1-b8a7-978d28597727",
   "metadata": {},
   "outputs": [
    {
     "data": {
      "text/plain": [
       "array([0.        , 0.        , 0.        , ..., 0.99891822, 0.99937949,\n",
       "       1.        ])"
      ]
     },
     "execution_count": 27,
     "metadata": {},
     "output_type": "execute_result"
    }
   ],
   "source": [
    "fpr"
   ]
  },
  {
   "cell_type": "code",
   "execution_count": 28,
   "id": "26910806-8c89-4a14-b137-277a95e5b306",
   "metadata": {},
   "outputs": [
    {
     "name": "stdout",
     "output_type": "stream",
     "text": [
      "[0.         0.         0.         ... 0.99891822 0.99937949 1.        ]\n"
     ]
    }
   ],
   "source": [
    "print(fpr)"
   ]
  },
  {
   "cell_type": "code",
   "execution_count": null,
   "id": "0974dabd-53d8-4c89-a10b-287a227f330d",
   "metadata": {},
   "outputs": [],
   "source": [
    "np.set_printoptions(threshold=np.inf)  \n",
    "print(\"False Positive Rate (FPR):\\n\", fpr)\n",
    "print(\"True Positive Rate (TPR):\\n\", tpr)\n",
    "print(\"Thresholds:\\n\", thresholds)\n",
    "print(f\"AUC = {auc_score:.3f}\")\n",
    "\n",
    "with open(\"roc_values.txt\", \"w\") as f:\n",
    "    f.write(\"False Positive Rate (FPR):\\n\")\n",
    "    np.savetxt(f, fpr, fmt=\"%.10f\")\n",
    "    \n",
    "    f.write(\"\\nTrue Positive Rate (TPR):\\n\")\n",
    "    np.savetxt(f, tpr, fmt=\"%.10f\")\n",
    "    \n",
    "    f.write(\"\\nThresholds:\\n\")\n",
    "    np.savetxt(f, thresholds, fmt=\"%.10f\")\n",
    "    \n",
    "    f.write(f\"\\nAUC = {auc_score:.3f}\\n\")\n"
   ]
  }
 ],
 "metadata": {
  "kernelspec": {
   "display_name": "Python 3 (ipykernel)",
   "language": "python",
   "name": "python3"
  },
  "language_info": {
   "codemirror_mode": {
    "name": "ipython",
    "version": 3
   },
   "file_extension": ".py",
   "mimetype": "text/x-python",
   "name": "python",
   "nbconvert_exporter": "python",
   "pygments_lexer": "ipython3",
   "version": "3.12.10"
  }
 },
 "nbformat": 4,
 "nbformat_minor": 5
}
